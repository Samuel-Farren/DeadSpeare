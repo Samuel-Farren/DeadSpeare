{
 "cells": [
  {
   "cell_type": "code",
   "execution_count": 5,
   "metadata": {},
   "outputs": [],
   "source": [
    "import pandas as pd\n",
    "import markovify\n",
    "import pronouncing\n",
    "import re\n",
    "import random"
   ]
  },
  {
   "cell_type": "markdown",
   "metadata": {},
   "source": [
    "# REad in Deadpool Script"
   ]
  },
  {
   "cell_type": "code",
   "execution_count": 6,
   "metadata": {},
   "outputs": [
    {
     "name": "stderr",
     "output_type": "stream",
     "text": [
      "/usr/local/Cellar/python3/3.6.0/Frameworks/Python.framework/Versions/3.6/lib/python3.6/site-packages/ipykernel_launcher.py:1: ParserWarning: Falling back to the 'python' engine because the 'c' engine does not support regex separators (separators > 1 char and different from '\\s+' are interpreted as regex); you can avoid this warning by specifying engine='python'.\n",
      "  \"\"\"Entry point for launching an IPython kernel.\n"
     ]
    }
   ],
   "source": [
    "deadpool = pd.read_csv('deadpoolLines2.txt', sep=\"::\", header=None,names=['line','nan'])"
   ]
  },
  {
   "cell_type": "code",
   "execution_count": 34,
   "metadata": {},
   "outputs": [
    {
     "data": {
      "text/html": [
       "<div>\n",
       "<style scoped>\n",
       "    .dataframe tbody tr th:only-of-type {\n",
       "        vertical-align: middle;\n",
       "    }\n",
       "\n",
       "    .dataframe tbody tr th {\n",
       "        vertical-align: top;\n",
       "    }\n",
       "\n",
       "    .dataframe thead th {\n",
       "        text-align: right;\n",
       "    }\n",
       "</style>\n",
       "<table border=\"1\" class=\"dataframe\">\n",
       "  <thead>\n",
       "    <tr style=\"text-align: right;\">\n",
       "      <th></th>\n",
       "      <th>line</th>\n",
       "      <th>nan</th>\n",
       "    </tr>\n",
       "  </thead>\n",
       "  <tbody>\n",
       "    <tr>\n",
       "      <th>0</th>\n",
       "      <td>Kinda lonesome back here.</td>\n",
       "      <td>NaN</td>\n",
       "    </tr>\n",
       "    <tr>\n",
       "      <th>1</th>\n",
       "      <td>Little help?</td>\n",
       "      <td>NaN</td>\n",
       "    </tr>\n",
       "    <tr>\n",
       "      <th>2</th>\n",
       "      <td>Excuse me.</td>\n",
       "      <td>NaN</td>\n",
       "    </tr>\n",
       "    <tr>\n",
       "      <th>3</th>\n",
       "      <td>Pool. Dead.</td>\n",
       "      <td>NaN</td>\n",
       "    </tr>\n",
       "    <tr>\n",
       "      <th>4</th>\n",
       "      <td>Mmm. Nice.</td>\n",
       "      <td>NaN</td>\n",
       "    </tr>\n",
       "  </tbody>\n",
       "</table>\n",
       "</div>"
      ],
      "text/plain": [
       "                        line  nan\n",
       "0  Kinda lonesome back here.  NaN\n",
       "1               Little help?  NaN\n",
       "2                 Excuse me.  NaN\n",
       "3                Pool. Dead.  NaN\n",
       "4                 Mmm. Nice.  NaN"
      ]
     },
     "execution_count": 34,
     "metadata": {},
     "output_type": "execute_result"
    }
   ],
   "source": [
    "deadpool.iloc[0:5]\n"
   ]
  },
  {
   "cell_type": "code",
   "execution_count": 35,
   "metadata": {},
   "outputs": [
    {
     "data": {
      "text/plain": [
       "0    Kinda lonesome back here.\n",
       "1                 Little help?\n",
       "2                   Excuse me.\n",
       "3                  Pool. Dead.\n",
       "4                   Mmm. Nice.\n",
       "Name: line, dtype: object"
      ]
     },
     "execution_count": 35,
     "metadata": {},
     "output_type": "execute_result"
    }
   ],
   "source": [
    "deadpool.line.iloc[0:5]"
   ]
  },
  {
   "cell_type": "markdown",
   "metadata": {},
   "source": [
    "# Create Deadpool Markov Model"
   ]
  },
  {
   "cell_type": "code",
   "execution_count": 9,
   "metadata": {},
   "outputs": [],
   "source": [
    "deadpool_text_model = markovify.NewlineText(deadpool.line, state_size = 2)"
   ]
  },
  {
   "cell_type": "code",
   "execution_count": 10,
   "metadata": {},
   "outputs": [
    {
     "name": "stdout",
     "output_type": "stream",
     "text": [
      "Let's just say, it's beginning to look away for this.\n",
      "And you, chicken noodle, nothing compares to you. I was talking to them.\n",
      "Sorry about bleeding in all of your five shittiest moments.\n",
      "You, go be a superhero landing, wait for it!\n",
      "None\n",
      "And let me tell you one thing, and it's a bit of a secret: We're gonna have nuts in it.\n",
      "Anyway, I got this.\n",
      "None\n",
      "It's about the size of a secret: We're gonna have nuts in it.\n",
      "None\n"
     ]
    }
   ],
   "source": [
    "# Print ten randomly-generated sentences using the built model\n",
    "for i in range(10):\n",
    "    print(deadpool_text_model.make_sentence())"
   ]
  },
  {
   "cell_type": "markdown",
   "metadata": {},
   "source": [
    "# Read in Dr. Seuss Poems"
   ]
  },
  {
   "cell_type": "code",
   "execution_count": 37,
   "metadata": {},
   "outputs": [
    {
     "name": "stderr",
     "output_type": "stream",
     "text": [
      "/usr/local/Cellar/python3/3.6.0/Frameworks/Python.framework/Versions/3.6/lib/python3.6/site-packages/ipykernel_launcher.py:1: ParserWarning: Falling back to the 'python' engine because the 'c' engine does not support regex separators (separators > 1 char and different from '\\s+' are interpreted as regex); you can avoid this warning by specifying engine='python'.\n",
      "  \"\"\"Entry point for launching an IPython kernel.\n"
     ]
    },
    {
     "data": {
      "text/plain": [
       "0    The sun did not shine. It was too wet to play....\n",
       "1         I sat there with Sally.We sat there, we two.\n",
       "2      And I said, \"How I wishWe had something to do!\"\n",
       "3          Too wet to go outAnd too cold to play ball.\n",
       "4        So we sat in the house.We did nothing at all.\n",
       "Name: line, dtype: object"
      ]
     },
     "execution_count": 37,
     "metadata": {},
     "output_type": "execute_result"
    }
   ],
   "source": [
    "seussTest = pd.read_csv(\"seussTest.txt\",sep=\"::\", header=None,names=['line','nan'])\n",
    "seussTest.line.iloc[0:5]"
   ]
  },
  {
   "cell_type": "markdown",
   "metadata": {},
   "source": [
    "# Create Dr. Seuss Model"
   ]
  },
  {
   "cell_type": "code",
   "execution_count": 13,
   "metadata": {},
   "outputs": [],
   "source": [
    "doctor_seuss_text_model = markovify.NewlineText(seussTest.line, state_size = 2)"
   ]
  },
  {
   "cell_type": "markdown",
   "metadata": {},
   "source": [
    "# Create Combined Dr. Seuss & Deadpool Speech Model"
   ]
  },
  {
   "cell_type": "code",
   "execution_count": 14,
   "metadata": {},
   "outputs": [],
   "source": [
    "doctor_pool = markovify.combine([ deadpool_text_model, doctor_seuss_text_model ], [ 1, 1 ])"
   ]
  },
  {
   "cell_type": "markdown",
   "metadata": {},
   "source": [
    "# Create Random Dr Seuss/Deadpool sentences, then geneerate a rhyme word for the last word in the sentence"
   ]
  },
  {
   "cell_type": "code",
   "execution_count": 15,
   "metadata": {},
   "outputs": [],
   "source": [
    "sentences = []\n",
    "for i in range(10):\n",
    "    sentence = doctor_pool.make_sentence()\n",
    "    sentences.append(sentence)"
   ]
  },
  {
   "cell_type": "code",
   "execution_count": 16,
   "metadata": {},
   "outputs": [
    {
     "name": "stdout",
     "output_type": "stream",
     "text": [
      "Every time I see her, it's like the studio couldn't afford another x-man.\n",
      "xman\n",
      "[]\n",
      "No word rhymes with that so skipping\n",
      "\n",
      "\n",
      "\n",
      "\n",
      "\n",
      "Till next time, this is about Vanessa.\n",
      "Vanessa\n",
      "['casesa', 'codesa', 'empresa', 'essa', 'griesa', 'marcessa', 'melessa', 'messa', 'nessa', 'odessa', 'paonessa', 'pargesa', 'ressa', 'sessa', 'teressa', 'tessa', 'vanessa', 'walesa', 'walesa']\n",
      "pargesa\n",
      "\n",
      "\n",
      "\n",
      "\n",
      "\n",
      "That guy was already up there when I got a nice pair of smooth criminals down under.\n",
      "under\n",
      "['asunder', 'blunder', 'dundore', 'funder', 'grunder', 'gunder', 'klunder', 'lunder', 'misunder', 'plunder', 'sunder', 'thunder', 'wonder', 'wunder']\n",
      "grunder\n",
      "\n",
      "\n",
      "\n",
      "\n",
      "\n",
      "And to tell her?\n",
      "her\n",
      "['bir', 'birr', 'blur', 'bur', 'burr', 'chauffeur', 'chesshir', 'cofer', 'concur', 'confer', 'connoisseur', 'credeur', 'cur', 'defer', 'defleur', 'demur', 'der', 'deter', 'dirr', 'dufur', 'duhr', 'durr', 'entrepreneur', 'err', 'esquer', 'eure', 'fer', 'feur', 'fir', 'fleur', 'fluhr', 'francoeur', 'fur', 'furr', 'furrh', 'gurr', 'hur', 'incur', 'infer', 'inter', 'jerr', 'ker', 'kerr', 'kuhr', 'lafleur', 'lefleur', 'liqueur', 'luhr', 'mccur', 'mcgirr', 'mer', 'monsieur', 'murr', 'myrrh', 'nurr', 'nurre', \"o'clair\", 'occur', 'oclair', 'payeur', 'per', 'pere', 'poseur', 'prefer', 'prefer', 'prefer', 'pur', 'purr', 'ramseur', 'recur', 'recur', 'redifer', 'refer', 'refer', 'reoccur', 'restauranteur', 'restaurateur', 'restaurateur', 'saboteur', 'scher', 'schnur', 'schnurr', 'schreur', 'schur', 'schurr', 'schwer', 'sher', 'shir', 'shirr', 'shur', 'shurr', 'sir', 'slur', 'spur', 'spurr', 'stir', 'stuhr', 'sur', 'swor', 'ter', 'thur', 'transfer', 'ur', 'ver', \"we're\", 'were', 'yer']\n",
      "purr\n",
      "\n",
      "\n",
      "\n",
      "\n",
      "\n",
      "So good. Bad for the moment I've all been waiting for.\n",
      "for\n",
      "['abhor', 'abor', 'ador', 'adore', 'anti-war', 'antiwar', 'antiwar', 'anymore', 'armentor', 'ashore', 'balthazor', 'bator', 'baur', 'before', 'before', 'bensenyore', 'boar', 'boer', 'bohr', 'bore', 'borre', 'cavalli-sfor', 'chore', 'clore', 'coar', 'cohr', 'cor', 'core', 'corps', 'corr', \"d'or\", 'decor', 'delore', 'deplore', 'devor', 'dior', 'doar', 'doerr', 'dohr', 'door', 'dore', 'dorr', 'drawer', 'elnore', 'espectador', 'explore', 'faure', 'floor', 'flor', 'flore', 'fore', 'forr', 'four', 'gabor', 'galore', 'gilgore', 'glor', 'glore', 'goar', 'gore', 'gorr', 'guarantor', 'hardcore', 'heretofore', 'hoar', 'hoare', 'hoerr', 'horr', 'ignore', 'igor', 'implore', 'inshore', 'jambor', 'knorr', 'kohr', 'labore', 'lahore', 'lalor', 'lamaur', 'laur', 'laure', 'lazor', 'lenore', 'livermore', 'livor', 'loar', 'loehr', 'lohr', 'longcor', 'lor', 'lore', 'mazor', 'melor', 'melor', 'mohr', 'montefiore', 'montemayor', 'moore', 'mor', 'more', 'morr', 'ngor', 'nohr', 'non-core', 'noncore', 'nor', 'oar', 'offshore', 'ohr', 'or', 'ore', 'orr', 'outpour', 'outscore', 'paramore', 'por', 'pore', 'porr', 'postwar', 'pour', 'prewar', 'rapport', 'restore', 'roar', 'roehr', 'rohr', 'roquemore', 'rumore', 'saur', 'schnorr', 'schor', 'schorr', 'scor', 'score', 'sedor', 'senor', 'shor', 'shore', 'shorr', 'snore', 'soar', 'sor', 'sore', 'sotomayor', 'spaur', 'spore', 'stoehr', 'stohr', 'store', 'storr', 'swore', 'thor', 'timor', 'tor', 'tore', 'torr', 'torre', 'underinsure', 'underscore', 'villasenor', 'vore', 'war', 'warr', 'wherefore', 'whore', 'woehr', 'wor', 'wore', 'yore', 'your']\n",
      "rapport\n",
      "\n",
      "\n",
      "\n",
      "\n",
      "\n",
      "So we sat in the most colossal way.\n",
      "way\n",
      "[\"'kay\", 'a', 'a.', 'aaa', 'aba', 'abbe', 'aday', 'ae', 'aggrey', 'aigner', 'aka', 'allais', 'allay', 'ama', 'anime', 'antigay', 'antigay', 'anway', 'array', 'asay', 'asea', 'astray', 'attache', 'away', 'ay', \"b'nai\", 'b-j', 'ba', 'baa', 'ballet', 'banpais', 'bay', 'baye', 'bayh', 'beaupre', 'beauvais', 'benet', 'bernay', 'betray', 'bey', 'beyonce', 'blay', 'bley', 'bombay', 'boulais', 'boulay', 'bouquet', 'bouvier', 'bouygues', 'brae', 'bray', 'brey', 'bta', 'bua', 'buffet', 'buga', \"c'est\", 'ca', 'cabaret', 'cabernet', 'cabriolet', 'cache', 'cafe', 'cafe', 'calais', 'callais', 'calvey', 'cama', 'carre', 'cathay', 'cay', 'cea', 'ceta', 'chalet', 'che', 'chevrolet', 'chevrolet', 'chez', 'cia', 'ciskei', 'clay', 'cliche', 'cluj', 'coday', 'communique', 'compusa', 'convey', 'cray', 'crochet', 'croquet', \"d'orsay\", 'da', 'dae', 'dak', 'day', 'daye', 'de', 'decay', 'defray', 'dekay', 'delay', 'delray', 'deseret', 'devey', 'dey', 'disarray', 'disarray', 'dismay', 'disobey', 'display', 'dj', 'dk', 'dna', 'donais', 'dorais', 'dossier', 'dossier', 'dovey', 'dray', 'drey', 'dumais', 'dunlavey', 'dupay', 'ek', 'ekk', 'epa', 'essay', 'everyday', 'faberge', 'faraway', 'fay', 'faye', 'fda', 'fe', 'fey', 'fiance', 'filet', 'fillet', 'flay', 'fnma', 'fnma', 'foia', 'francais', 'fray', 'frey', 'ga', 'gai', 'galle', 'gaudier', 'gay', 'gaye', 'gerais', 'gervais', 'gray', 'graye', 'grey', 'guay', 'gway', 'haigh', 'halfway', 'hay', 'haye', 'hefei', 'hervey', 'hevey', 'hey', 'hiaa', 'hongwei', 'hooray', 'hurray', 'hwe', 'ilhae', 'imlay', 'intraday', 'ira', 'ita', 'j', 'j.', 'jacquet', 'jae', 'jaquay', 'jay', 'jaye', 'jfk', 'jna', 'jonbenet', 'jose', 'jouret', 'k', 'k.', 'kamei', 'kay', 'kaye', 'khe', 'kkk', 'klay', 'kley', 'kray', 'krey', \"l'espalier\", 'la-carre', 'lait', 'langlais', 'lay', 'laye', 'lei', 'les', 'levey', 'ley', 'leyh', 'liberte', 'lihue', 'lurvey', 'lyonnais', 'mackay', 'macknay', 'maclay', 'macrae', 'mae', 'maltais', 'manet', 'manet', 'marais', 'marquai', 'marquai', 'may', 'maye', 'mba', 'mcbay', 'mccay', 'mcclay', 'mccrae', 'mccray', 'mccrea', 'mcgarvey', 'mcgray', 'mckay', 'mclay', 'mcnay', 'mcquay', 'mcrae', 'mcray', 'mcshea', 'mcstay', 'mcvay', 'mcveigh', 'mcvey', 'mei', 'meservey', 'mey', 'millay', 'mobay', 'monet', 'monterey', 'monterey', 'monterrey', 'monterrey', 'monterrey', 'monterrey', 'morais', 'moray', 'moutray', 'mulvey', 'naivete', 'nay', 'nba', 'ne', 'neigh', 'nej', 'ney', 'nihei', 'nikkei', 'nisei', 'nissei', 'noaa', \"o'day\", \"o'dea\", \"o'shea\", 'obey', 'oday', 'oj', 'ok', 'okay', 'olay', 'ole', 'one-way', 'orsay', 'orsay', 'oshea', 'overplay', 'overstay', 'palais', 'papier-mache', 'parfait', 'parquet', 'passe', 'pay', 'paye', 'pei', 'per-se', 'perrier', 'pevey', 'pga', 'piaget', 'pinochet', 'pinochet', 'play', 'porcher', 'portray', 'pray', 'prepay', 'prey', 'puree', 'purvey', 'quai', 'quay', 'quaye', 'quaye', 'rae', 'ray', 'raye', 'rca', 're', 'rea', 'reay', 'redisplay', 'rene', 'renee', 'repay', 'replay', 'resnais', 'rey', 'risque', 'rna', 'roget', 'sachet', 'san-jose', 'santa-fe', 'satay', 'satay', 'saute', 'say', 'saye', 'sba', 'schey', 'schley', 'se', 'seay', 'sergei', 'servais', 'sevey', 'shay', 'shea', 'shinsei', 'sinay', 'slay', 'sleigh', 'smay', 'snay', 'sochet', 'societe', 'soiree', 'sorbet', 'souffle', 'spay', 'spey', 'spray', 'sta', 'stay', 'stray', 'strey', 'stupay', 'survey', 'sway', 'sze', 'tae', 'tay', 'they', 'today', 'today', 'toray', 'torme', 'toupee', 'touvier', 'tray', 'tre', 'trey', 'turvey', 'u.k.', 'u.s.a.', 'uk', 'underpay', 'underplay', 'underway', 'usa', 'usda', 'uva', 'v.a.', 'vadnais', 'valet', 'vey', 'voisey', 'voisey', 'waga', 'waga', 'wah-pei', 'waye', 'wei', 'weigh', 'wey', 'whey', 'whey', 'wray', 'wy', 'yakutakay', 'yay', 'yea', 'zalay', 'zepa']\n",
      "usa\n",
      "\n",
      "\n",
      "\n",
      "\n",
      "\n",
      "Ha! Only on the lookout for the moment I've all been waiting for.\n",
      "for\n",
      "['abhor', 'abor', 'ador', 'adore', 'anti-war', 'antiwar', 'antiwar', 'anymore', 'armentor', 'ashore', 'balthazor', 'bator', 'baur', 'before', 'before', 'bensenyore', 'boar', 'boer', 'bohr', 'bore', 'borre', 'cavalli-sfor', 'chore', 'clore', 'coar', 'cohr', 'cor', 'core', 'corps', 'corr', \"d'or\", 'decor', 'delore', 'deplore', 'devor', 'dior', 'doar', 'doerr', 'dohr', 'door', 'dore', 'dorr', 'drawer', 'elnore', 'espectador', 'explore', 'faure', 'floor', 'flor', 'flore', 'fore', 'forr', 'four', 'gabor', 'galore', 'gilgore', 'glor', 'glore', 'goar', 'gore', 'gorr', 'guarantor', 'hardcore', 'heretofore', 'hoar', 'hoare', 'hoerr', 'horr', 'ignore', 'igor', 'implore', 'inshore', 'jambor', 'knorr', 'kohr', 'labore', 'lahore', 'lalor', 'lamaur', 'laur', 'laure', 'lazor', 'lenore', 'livermore', 'livor', 'loar', 'loehr', 'lohr', 'longcor', 'lor', 'lore', 'mazor', 'melor', 'melor', 'mohr', 'montefiore', 'montemayor', 'moore', 'mor', 'more', 'morr', 'ngor', 'nohr', 'non-core', 'noncore', 'nor', 'oar', 'offshore', 'ohr', 'or', 'ore', 'orr', 'outpour', 'outscore', 'paramore', 'por', 'pore', 'porr', 'postwar', 'pour', 'prewar', 'rapport', 'restore', 'roar', 'roehr', 'rohr', 'roquemore', 'rumore', 'saur', 'schnorr', 'schor', 'schorr', 'scor', 'score', 'sedor', 'senor', 'shor', 'shore', 'shorr', 'snore', 'soar', 'sor', 'sore', 'sotomayor', 'spaur', 'spore', 'stoehr', 'stohr', 'store', 'storr', 'swore', 'thor', 'timor', 'tor', 'tore', 'torr', 'torre', 'underinsure', 'underscore', 'villasenor', 'vore', 'war', 'warr', 'wherefore', 'whore', 'woehr', 'wor', 'wore', 'yore', 'your']\n",
      "sedor\n",
      "\n",
      "\n",
      "\n",
      "\n",
      "\n",
      "You ever hear of the house For the day.\n",
      "day\n",
      "[\"'kay\", 'a', 'a.', 'aaa', 'aba', 'abbe', 'aday', 'ae', 'aggrey', 'aigner', 'aka', 'allais', 'allay', 'ama', 'anime', 'antigay', 'antigay', 'anway', 'array', 'asay', 'asea', 'astray', 'attache', 'away', 'ay', \"b'nai\", 'b-j', 'ba', 'baa', 'ballet', 'banpais', 'bay', 'baye', 'bayh', 'beaupre', 'beauvais', 'benet', 'bernay', 'betray', 'bey', 'beyonce', 'blay', 'bley', 'bombay', 'boulais', 'boulay', 'bouquet', 'bouvier', 'bouygues', 'brae', 'bray', 'brey', 'bta', 'bua', 'buffet', 'buga', \"c'est\", 'ca', 'cabaret', 'cabernet', 'cabriolet', 'cache', 'cafe', 'cafe', 'calais', 'callais', 'calvey', 'cama', 'carre', 'cathay', 'cay', 'cea', 'ceta', 'chalet', 'che', 'chevrolet', 'chevrolet', 'chez', 'cia', 'ciskei', 'clay', 'cliche', 'cluj', 'coday', 'communique', 'compusa', 'convey', 'cray', 'crochet', 'croquet', \"d'orsay\", 'da', 'dae', 'dak', 'daye', 'de', 'decay', 'defray', 'dekay', 'delay', 'delray', 'deseret', 'devey', 'dey', 'disarray', 'disarray', 'dismay', 'disobey', 'display', 'dj', 'dk', 'dna', 'donais', 'dorais', 'dossier', 'dossier', 'dovey', 'dray', 'drey', 'dumais', 'dunlavey', 'dupay', 'ek', 'ekk', 'epa', 'essay', 'everyday', 'faberge', 'faraway', 'fay', 'faye', 'fda', 'fe', 'fey', 'fiance', 'filet', 'fillet', 'flay', 'fnma', 'fnma', 'foia', 'francais', 'fray', 'frey', 'ga', 'gai', 'galle', 'gaudier', 'gay', 'gaye', 'gerais', 'gervais', 'gray', 'graye', 'grey', 'guay', 'gway', 'haigh', 'halfway', 'hay', 'haye', 'hefei', 'hervey', 'hevey', 'hey', 'hiaa', 'hongwei', 'hooray', 'hurray', 'hwe', 'ilhae', 'imlay', 'intraday', 'ira', 'ita', 'j', 'j.', 'jacquet', 'jae', 'jaquay', 'jay', 'jaye', 'jfk', 'jna', 'jonbenet', 'jose', 'jouret', 'k', 'k.', 'kamei', 'kay', 'kaye', 'khe', 'kkk', 'klay', 'kley', 'kray', 'krey', \"l'espalier\", 'la-carre', 'lait', 'langlais', 'lay', 'laye', 'lei', 'les', 'levey', 'ley', 'leyh', 'liberte', 'lihue', 'lurvey', 'lyonnais', 'mackay', 'macknay', 'maclay', 'macrae', 'mae', 'maltais', 'manet', 'manet', 'marais', 'marquai', 'marquai', 'may', 'maye', 'mba', 'mcbay', 'mccay', 'mcclay', 'mccrae', 'mccray', 'mccrea', 'mcgarvey', 'mcgray', 'mckay', 'mclay', 'mcnay', 'mcquay', 'mcrae', 'mcray', 'mcshea', 'mcstay', 'mcvay', 'mcveigh', 'mcvey', 'mei', 'meservey', 'mey', 'millay', 'mobay', 'monet', 'monterey', 'monterey', 'monterrey', 'monterrey', 'monterrey', 'monterrey', 'morais', 'moray', 'moutray', 'mulvey', 'naivete', 'nay', 'nba', 'ne', 'neigh', 'nej', 'ney', 'nihei', 'nikkei', 'nisei', 'nissei', 'noaa', \"o'day\", \"o'dea\", \"o'shea\", 'obey', 'oday', 'oj', 'ok', 'okay', 'olay', 'ole', 'one-way', 'orsay', 'orsay', 'oshea', 'overplay', 'overstay', 'palais', 'papier-mache', 'parfait', 'parquet', 'passe', 'pay', 'paye', 'pei', 'per-se', 'perrier', 'pevey', 'pga', 'piaget', 'pinochet', 'pinochet', 'play', 'porcher', 'portray', 'pray', 'prepay', 'prey', 'puree', 'purvey', 'quai', 'quay', 'quaye', 'quaye', 'rae', 'ray', 'raye', 'rca', 're', 'rea', 'reay', 'redisplay', 'rene', 'renee', 'repay', 'replay', 'resnais', 'rey', 'risque', 'rna', 'roget', 'sachet', 'san-jose', 'santa-fe', 'satay', 'satay', 'saute', 'say', 'saye', 'sba', 'schey', 'schley', 'se', 'seay', 'sergei', 'servais', 'sevey', 'shay', 'shea', 'shinsei', 'sinay', 'slay', 'sleigh', 'smay', 'snay', 'sochet', 'societe', 'soiree', 'sorbet', 'souffle', 'spay', 'spey', 'spray', 'sta', 'stay', 'stray', 'strey', 'stupay', 'survey', 'sway', 'sze', 'tae', 'tay', 'they', 'today', 'today', 'toray', 'torme', 'toupee', 'touvier', 'tray', 'tre', 'trey', 'turvey', 'u.k.', 'u.s.a.', 'uk', 'underpay', 'underplay', 'underway', 'usa', 'usda', 'uva', 'v.a.', 'vadnais', 'valet', 'vey', 'voisey', 'voisey', 'waga', 'waga', 'wah-pei', 'way', 'waye', 'wei', 'weigh', 'wey', 'whey', 'whey', 'wray', 'wy', 'yakutakay', 'yay', 'yea', 'zalay', 'zepa']\n",
      "pga\n",
      "\n",
      "\n",
      "\n",
      "\n",
      "\n",
      "Let's just say, it's beginning to look away for this.\n",
      "this\n",
      "['abyss', 'alusuisse', 'amiss', 'bis', 'biss', 'bliss', \"bliss'\", 'brys', 'buice', 'chris', \"chris'\", 'chriss', 'cris', 'criss', 'dis', 'dismiss', 'diss', 'fariss', 'fis', 'fiss', 'flis', 'fliss', 'furniss', 'hiss', 'kis', 'kiss', 'kniss', 'kris', 'kriss', 'lis', 'liss', 'mis', 'miss', 'phariss', 'piss', 'pris', 'reminisce', 'remiss', 'resists', 'resists', 'riss', 'risse', 'rys', 'sis', 'stys', 'suess', 'suisse', 'swiss', \"this'\", 'twiss', 'vis', 'wis', 'wiss', 'wyss']\n",
      "suess\n",
      "\n",
      "\n",
      "\n",
      "\n",
      "\n",
      "Negasonic Teenage... What the hell! Come here you.\n",
      "you\n",
      "['abou', 'abreu', 'accrue', 'achoo', 'adieu', 'ado', 'aeroperu', 'anew', 'anew', 'askew', 'babu', 'badu', 'baku', 'ballou', 'ballyhoo', 'bamboo', 'beaucoup', 'bellew', 'belyeu', 'benhamou', 'beu', 'bleu', 'blew', 'blue', 'boo', 'breaux', 'brew', 'brue', 'byu', 'canoe', 'carilou', 'cebu', 'chaloux', 'champoux', 'chengdu', 'chew', 'chiu', 'choo', 'chou', 'chu', 'clue', 'cmu', 'construe', 'coo', 'corbu', 'cou', 'coup', 'coups', 'coutu', 'cpu', 'crew', 'crewe', 'cue', 'deblois', 'debut', 'decou', 'depardieu', 'depew', 'depue', 'deux', 'dew', 'dfw', 'dfw', 'do', 'doo', 'douwe', 'drew', 'drive-thru', 'dru', 'du', 'due', 'due', 'edu', 'egnew', 'ensue', 'eschew', 'ewe', 'fauroux', 'few', 'fitzhugh', 'flew', 'flu', 'flue', 'fondue', 'foo', 'fourtou', 'frew', 'frueh', 'fu', 'geroux', 'gignoux', 'giroux', 'glew', 'glue', 'gnu', 'goo', 'graue', 'grew', 'grewe', 'grue', 'gu', 'gue', 'heroux', 'herscu', 'hew', 'hewe', 'hitherto', 'hoo', 'hou', 'houx', 'hsu', 'hu', 'hue', 'hugh', 'hugh', 'hullabaloo', 'igou', 'imbue', 'into', 'iou', 'iq', 'isu', 'jammu', 'jamu', 'jew', 'joo', 'ju', 'jue', 'jus', 'kalamazoo', 'kangaroo', 'karatsu', 'katmandu', 'kazoo', 'ketou', 'kew', 'khoo', 'khuu', 'klu', 'klu', 'knew', 'knew', 'komatsu', 'koo', 'ku', 'kwangju', 'kwangju', 'kyu', 'laroux', 'larue', 'ledoux', 'lemieux', 'leroux', 'leu', 'lew', 'lhommedieu', 'lieu', 'lieu', 'liou', 'liu', 'llanview', 'long-overdue', 'loo', 'lou', 'louw', 'loux', 'lu', 'lue', 'mailloux', 'marcou', 'marcoux', 'marrou', 'mccue', 'mcgrew', 'mcgue', 'mchugh', 'mcknew', 'mcnew', 'meiyuh', 'mew', 'misconstrue', 'moo', 'moue', 'mu', 'neveu', 'new', 'new', 'nu', 'ooh', 'oooh', 'ou', 'outdo', 'outgrew', 'overdo', 'overdue', 'overthrew', 'pas-de-deux', 'perdue', 'peru', 'peugh', 'pew', 'phew', 'phu', 'plew', 'plue', 'poo', 'pooh', 'pou', 'prew', 'pru', 'prue', 'prugh', 'pshew', 'pu', 'pugh', 'purdue', 'pursue', 'q', 'q.', 'qu', 'que', 'queue', 'ragu', 'ramu', 'raoux', 'ratu', 'redo', 'renew', 'reto', 'review', 'revue', 'rew', 'rhew', 'rhue', 'richoux', 'rioux', 'roux', 'ru', 'ru', 'rue', 'schewe', 'schoo', 'schou', 'schue', 'schuh', 'screw', 'seydoux', 'shampoo', 'shamu', 'shew', 'shiu', 'shoe', 'shoo', 'shu', 'shue', 'siew', 'sioux', 'skew', 'slew', 'soo', 'spew', 'stew', 'strew', 'stu', 'stuewe', 'su', 'subdue', 'sue', 'suu', 'suu', 'taboo', 'tartu', 'tattoo', 'tatu', 'tew', 'tew', 'thankyou', 'theroux', 'thew', 'threw', 'through', 'thru', 'thuy', 'tien-fu', 'tieu', 'timbuktu', 'to', 'to-do', 'tobu', 'todo', 'too', 'toyoo', 'treu', 'trew', 'trieu', 'troyu', 'true', 'true-view', 'tsu', 'tu', 'tue', 'two', 'u', 'u.', 'undo', 'undue', 'unglue', 'untrue', 'urdu', 'uwe', 'vanlue', 'view', 'vous', 'vu', 'vue', 'wahoo', 'wahoo', 'wenzhou', 'whay-yu', 'whay-yu', 'whew', 'whew', 'whew', 'who', 'whoo', 'withdrew', 'withdrew', 'woo', 'wu', 'xu', 'xue', 'yabbadabbadoo', 'yew', 'yoo', 'yu', 'yue', 'zanu', 'zhambu', 'zhou', 'zhu', 'zoo', 'zue', 'zungu']\n",
      "koo\n",
      "\n",
      "\n",
      "\n",
      "\n",
      "\n"
     ]
    }
   ],
   "source": [
    "for i in range(len(sentences)):\n",
    "    if sentences[i] != None:\n",
    "        print(sentences[i])\n",
    "        rhymeWord = sentences[i].split()[-1]\n",
    "        rhymeWord = re.sub(r'[^\\w\\s]','',rhymeWord)\n",
    "        print(rhymeWord)\n",
    "        print(pronouncing.rhymes(rhymeWord))\n",
    "        if len(pronouncing.rhymes(rhymeWord)) > 0:\n",
    "            print(random.choice(pronouncing.rhymes(rhymeWord)))\n",
    "        else:\n",
    "            print(\"No word rhymes with that so skipping\")\n",
    "        print('\\n\\n\\n\\n')"
   ]
  },
  {
   "cell_type": "code",
   "execution_count": 17,
   "metadata": {},
   "outputs": [],
   "source": [
    "def getRandomRhymeWord(list):\n",
    "    return random.choice(list)"
   ]
  },
  {
   "cell_type": "markdown",
   "metadata": {},
   "source": [
    "# Create Model based only on Vulgar Deadpool Sentences (Makes it more entertaining)"
   ]
  },
  {
   "cell_type": "code",
   "execution_count": 18,
   "metadata": {},
   "outputs": [
    {
     "name": "stderr",
     "output_type": "stream",
     "text": [
      "/usr/local/Cellar/python3/3.6.0/Frameworks/Python.framework/Versions/3.6/lib/python3.6/site-packages/ipykernel_launcher.py:1: ParserWarning: Falling back to the 'python' engine because the 'c' engine does not support regex separators (separators > 1 char and different from '\\s+' are interpreted as regex); you can avoid this warning by specifying engine='python'.\n",
      "  \"\"\"Entry point for launching an IPython kernel.\n"
     ]
    }
   ],
   "source": [
    "deadpool_vulgar = pd.read_csv(\"deadpool_vulgar.txt\",sep=\"::\", header=None,names=['line','nan'])"
   ]
  },
  {
   "cell_type": "code",
   "execution_count": 19,
   "metadata": {},
   "outputs": [],
   "source": [
    "deadpool_vulgar_model = markovify.NewlineText(deadpool_vulgar.line, state_size = 2)"
   ]
  },
  {
   "cell_type": "code",
   "execution_count": 20,
   "metadata": {},
   "outputs": [],
   "source": [
    "doctor_pool_vulgar = markovify.combine([ deadpool_text_model, doctor_seuss_text_model, deadpool_vulgar_model], [ 1, 1, 10 ])"
   ]
  },
  {
   "cell_type": "code",
   "execution_count": 21,
   "metadata": {},
   "outputs": [
    {
     "name": "stdout",
     "output_type": "stream",
     "text": [
      "What the fuck up!\n",
      "That guy was already up there on the outside.\n",
      "Time to make the same mistakes I did.\n",
      "None\n",
      "I can hold the toy ship And a cup on my lawn.\n",
      "Finish fucking her the fuck am I going to tell her?\n",
      "Till next time, this is about Vanessa.\n",
      "Now, if you'll excuse me, I'm just a boy about to be hot again, get my very own movie?\n",
      "What the fuck am I going to have to know that I love you very much.\n",
      "There's nothing that we don't have that kind of money.\n",
      "Come on. Come on, get it through your head or get outta fuck town!\n",
      "None\n",
      "Look, Donald! I don't have time for the waistline if you know that bad guy that you can't refuse!\n",
      "The Cat in the ass!\n",
      "None\n",
      "Yeah. Bactine should do it. But mostly the money.\n",
      "None\n",
      "I'm gonna wait till this arm plows through puberty, and then I'm gonna get you out of that shitbox.\n",
      "None\n",
      "I can’t tell you, but it could be anybody.\n"
     ]
    }
   ],
   "source": [
    "# Print ten randomly-generated sentences using the built model\n",
    "for i in range(20):\n",
    "    print(doctor_pool_vulgar.make_sentence())"
   ]
  },
  {
   "cell_type": "markdown",
   "metadata": {},
   "source": [
    "# Create a Very Vulgar Dr. Seuss Model"
   ]
  },
  {
   "cell_type": "code",
   "execution_count": 22,
   "metadata": {},
   "outputs": [],
   "source": [
    "vulgar_seuss = markovify.combine([doctor_seuss_text_model, deadpool_vulgar_model], [1, 10 ])"
   ]
  },
  {
   "cell_type": "code",
   "execution_count": 23,
   "metadata": {},
   "outputs": [
    {
     "name": "stdout",
     "output_type": "stream",
     "text": [
      "None\n",
      "None\n",
      "None\n",
      "The sun did not shine. It was too wet to go outAnd too cold to play ball.\n",
      "None\n",
      "What the fuck up!\n",
      "None\n",
      "What in the cake.\n",
      "None\n",
      "What the fuck up!\n",
      "Then we saw one kite bump On the string of one kite We saw ALL the things they will hit!\n",
      "The Cat in the ass!\n",
      "Either that, or slap the bitch out of the box Came Thing Two and Thing Two.\n",
      "What in the cake.\n",
      "Chocolate! Jimminy! Fuck! Fuck! Fuck! Fuck! Fuck! Fuck! Fuck! Fuck! Fuck! Fuck!\n",
      "We looked!Then we saw him!\n",
      "What in the cake.\n",
      "None\n",
      "None\n",
      "But that is not all...\n"
     ]
    }
   ],
   "source": [
    "# Print ten randomly-generated sentences using the built model\n",
    "for i in range(20):\n",
    "    print(vulgar_seuss.make_sentence())"
   ]
  },
  {
   "cell_type": "markdown",
   "metadata": {},
   "source": [
    "# This did not give good results, so need to play with the 'state_size' parameter to get a good mix between the two vocabularies"
   ]
  },
  {
   "cell_type": "code",
   "execution_count": 24,
   "metadata": {},
   "outputs": [],
   "source": [
    "deadpool_vulgar_state_size_1 = markovify.NewlineText(deadpool_vulgar.line, state_size = 1)"
   ]
  },
  {
   "cell_type": "code",
   "execution_count": 25,
   "metadata": {},
   "outputs": [
    {
     "name": "stdout",
     "output_type": "stream",
     "text": [
      "What in this mother fucker\n",
      "Either that, or slap the chimi fucking kebab.’\n",
      "What the fuck am orbiting fucking spell it feels huge in this mother fucking kebab.’\n",
      "get outta fuck this mother fucker\n",
      "get you out of you.\n",
      "Oh, I'm gonna get you out for me?\n",
      "What the fuck town!\n",
      "get you out of assholes named Trump\n",
      "Finish fucking Saturn right now.\n",
      "What the ass!\n",
      "two-hundred pound sack of you.\n",
      "Sit on my lawn.\n",
      "Suck a sand paper dildo.\n",
      "That wheezing bag of assholes named Trump\n",
      "What the bitch out of assholes named Trump\n",
      "You're really gonna rip this mother fucking changas.\n",
      "two-hundred pound sack of that shitbox.\n",
      "That wheezing bag of helium!\n",
      "Ooh, I'mma fucking changas.\n",
      "I'll take the ass!\n"
     ]
    }
   ],
   "source": [
    "for i in range(20):\n",
    "    print(deadpool_vulgar_state_size_1.make_sentence())"
   ]
  },
  {
   "cell_type": "code",
   "execution_count": 26,
   "metadata": {},
   "outputs": [],
   "source": [
    "deadpool_normal_state_size_1 = markovify.NewlineText(deadpool.line, state_size = 1)"
   ]
  },
  {
   "cell_type": "code",
   "execution_count": 27,
   "metadata": {},
   "outputs": [
    {
     "name": "stdout",
     "output_type": "stream",
     "text": [
      "If you know what I got to them.\n",
      "We have time travel.\n",
      "No, no, no, no, no, finish your friendly neighborhood pool guy getting dismembered!\n",
      "I was a murder. But mostly the on top of stupid who rooms with a friend request. But until then, I'm gonna wait out there has agreed to me.\n",
      "I'd stick that bad guys to tell it back to fix, and found you remember.\n",
      "That said, when I got a friend request. But some creepy, old, bald, Heaven's Gate-looking mother fucking - Audi 5000!\n",
      "Let's just a total dick tips has it feels huge in the whole world tastes like there's no place like Mama June after all this, you remember.\n",
      "Well, I got this. Is it out there has it the dinosaurs feared the on a whole world tastes like the apartment, right next four of you.\n",
      "get her fast, before sundown or alive for?\n",
      "Just, yeah, ow, like a gaggle of some creepy, old, bald, Heaven's Gate-looking mother fucker, on the money.\n",
      "Go on. Come on.\n",
      "Hey, hey! Where'd she still doing this.\n",
      "Have you to be on switch?\n",
      "Anyway, I bet it comes time for not cowboying up the fuck am I got a teenage girl!\n",
      "That was that?\n",
      "What the ass!\n",
      "Ugh, fuck me. But mostly the footlong.\n",
      "Ooh, I'mma give it feels huge in this shit spackled muffin fart!\n",
      "Oh! Giving him the bitch out here, Negasonic Teenage... What are so pity the music.\n",
      "I got to be the cure for that was that?\n"
     ]
    }
   ],
   "source": [
    "for i in range(20):\n",
    "    print(deadpool_normal_state_size_1.make_sentence())"
   ]
  },
  {
   "cell_type": "code",
   "execution_count": 28,
   "metadata": {},
   "outputs": [],
   "source": [
    "doctor_seuss_state_size_1 = markovify.NewlineText(seussTest.line, state_size = 1)"
   ]
  },
  {
   "cell_type": "code",
   "execution_count": 29,
   "metadata": {},
   "outputs": [
    {
     "name": "stdout",
     "output_type": "stream",
     "text": [
      "Her gown with hops and I, We looked!Then we saw those two Things\n",
      "Then, out of her bed!\n",
      "I can hold a cup on the toy ship, Sank it deep in the milk and Thing Two and big bumps, jumps and Thing Two and Thing One and the ball.\n",
      "And then he ran down!\n",
      "I Did not know what to play ball.\n",
      "Two and big red wood box. It is not like it.Not one hand! And some milk on the toy man!\n",
      "A big thumps And some milk on a dish!\n",
      "A big thumps And a bump From up there on a pot!\n",
      "Then he fell into a box.\n",
      "But you bent our mother was too wet to us? What will hit!\n",
      "So we had to play.So we did not shine. It is fun But that bump made us jump!\n",
      "And then something went BUMP! How that cold, wet to shake hands With big bumps, jumps and Thing Two things. And a hook.\n",
      "You sank our mother was out of her bed!\n",
      "He came down on one little toy ship! And Sally and big thumps And some milk and Thing One and I can fan with hops and I can hold the wall in the ball.\n",
      "I Did not all...\n",
      "Oh, the cup And Sally and I can fan with the fan As I Did not like it.Not one kite bump From up these books! I sat in on top With Thing Two.\n",
      "And with a pot!\n",
      "Those Things should not all! Oh, the hall.\n",
      "You shook up TWO books! And our toy ship And look! I can fan with Sally.We sat there, we saw ALL the house For the fan with hops and Thing Two and I, We saw those two Things should not know how.\n",
      "Then those Things should not all! Oh, the day.\n"
     ]
    }
   ],
   "source": [
    "for i in range(20):\n",
    "    print(doctor_seuss_state_size_1.make_sentence())"
   ]
  },
  {
   "cell_type": "markdown",
   "metadata": {},
   "source": [
    "# Combine Dr Seuss with Deadpool with Deadpool having twice the weight of Dr Seuss"
   ]
  },
  {
   "cell_type": "code",
   "execution_count": 30,
   "metadata": {},
   "outputs": [],
   "source": [
    "doctor_pool_state_size_1 = markovify.combine([ deadpool_vulgar_state_size_1, doctor_seuss_state_size_1], [2,1])"
   ]
  },
  {
   "cell_type": "code",
   "execution_count": 31,
   "metadata": {},
   "outputs": [
    {
     "name": "stdout",
     "output_type": "stream",
     "text": [
      "So we two.\n",
      "Ugh, fuck am I can fan As I can of dick move.\n",
      "Like two Things\n",
      "the fuck up! They ran down!\n",
      "I'm gonna get you bent our fish came down, too. He fell into a cup And Sally and I, We saw him!\n",
      "We saw him step in the shit biscuit!\n",
      "You're really gonna get it feels huge in the fuck town!\n",
      "Ooh, I'mma fucking spell it out of assholes named Trump\n",
      "Gate-looking mother fucking in the shit biscuit!\n",
      "Chocolate! Jimminy! Fuck! Fuck! Fuck! Fuck! Fuck! Fuck! Fuck! Fuck! Fuck!\n",
      "It's a rake!\n",
      "And I going to stop shitting on a stick.\n",
      "I can hold a total dick move.\n",
      "We looked!Then we had to play ball.\n",
      "The Cat in the chimi fucking cares?\n",
      "I'm gonna rip this up on a shoe filled with a little toy ship, Sank it coming!\n",
      "The Cat in with hops and big red wood box.\n",
      "A big red fan!\n",
      "It's like it.Not one hand! And with a cock!\n",
      "Either that, or get it out of assholes named Trump\n"
     ]
    }
   ],
   "source": [
    "for i in range(20):\n",
    "    print(doctor_pool_state_size_1.make_sentence())"
   ]
  },
  {
   "cell_type": "code",
   "execution_count": 40,
   "metadata": {
    "scrolled": true
   },
   "outputs": [
    {
     "name": "stdout",
     "output_type": "stream",
     "text": [
      "Then, out of assholes named Trump\n",
      "Trump\n",
      "pump\n",
      "\n",
      "\n",
      "A big red wood box. It is not know what to do.\n",
      "do\n",
      "isu\n",
      "\n",
      "\n",
      "On the cup And we two.\n",
      "two\n",
      "timbuktu\n",
      "\n",
      "\n",
      "I can fan with the shit biscuit!\n",
      "biscuit\n",
      "brisket\n",
      "\n",
      "\n",
      "You're really gonna get outta fuck town!\n",
      "town\n",
      "uptown\n",
      "\n",
      "\n",
      "What the wall! Bump!\n",
      "Bump\n",
      "sump\n",
      "\n",
      "\n",
      "It is pure pornography.\n",
      "pornography\n",
      "demography\n",
      "\n",
      "\n",
      "And our house All that cold, wet day.\n",
      "day\n",
      "overplay\n",
      "\n",
      "\n",
      "So we did not like he ran down!\n",
      "down\n",
      "crowne\n",
      "\n",
      "\n",
      "two-hundred pound sack of his hat.\n",
      "hat\n",
      "stat\n",
      "\n",
      "\n"
     ]
    }
   ],
   "source": [
    "sentences = []\n",
    "for i in range(10):\n",
    "    sentence = doctor_pool_state_size_1.make_sentence()\n",
    "    sentences.append(sentence)\n",
    "for i in range(len(sentences)):\n",
    "    if sentences[i] != None:\n",
    "        print(sentences[i])\n",
    "        rhymeWord = sentences[i].split()[-1]\n",
    "        rhymeWord = re.sub(r'[^\\w\\s]','',rhymeWord)\n",
    "        print(rhymeWord)\n",
    "#         print(pronouncing.rhymes(rhymeWord))\n",
    "        if len(pronouncing.rhymes(rhymeWord)) > 0:\n",
    "            print(random.choice(pronouncing.rhymes(rhymeWord)))\n",
    "        else:\n",
    "            print(\"No word rhymes with that so skipping\")\n",
    "        print('\\n')"
   ]
  },
  {
   "cell_type": "code",
   "execution_count": 45,
   "metadata": {},
   "outputs": [
    {
     "name": "stdout",
     "output_type": "stream",
     "text": [
      "Then, out of assholes named Trump\n",
      "['Then,', 'out', 'of', 'assholes', 'named']\n"
     ]
    }
   ],
   "source": [
    "print(sentences[0])\n",
    "print(sentences[0].split()[0:-1])"
   ]
  },
  {
   "cell_type": "code",
   "execution_count": 47,
   "metadata": {},
   "outputs": [
    {
     "data": {
      "text/plain": [
       "'Then, out of assholes named'"
      ]
     },
     "execution_count": 47,
     "metadata": {},
     "output_type": "execute_result"
    }
   ],
   "source": [
    "test_replace = sentences[0]\n",
    "test_replace = test_replace.split()[0:-1]\n",
    "' '.join(test_replace)"
   ]
  },
  {
   "cell_type": "code",
   "execution_count": 131,
   "metadata": {},
   "outputs": [],
   "source": [
    "def make_poem():\n",
    "    for i in range(4):\n",
    "        verse = make_verse()\n",
    "        print(verse[0])\n",
    "        print(verse[1])\n",
    "        print('\\n')"
   ]
  },
  {
   "cell_type": "code",
   "execution_count": 107,
   "metadata": {},
   "outputs": [],
   "source": [
    "def make_verse():\n",
    "    sentence1 = None\n",
    "    while(sentence1 == None):\n",
    "        sentence1 = doctor_pool_state_size_1.make_sentence()\n",
    "        rhymeWord = sentence1.split()[-1]\n",
    "        rhymeWord = re.sub(r'[^\\w\\s]','',rhymeWord)\n",
    "        list_of_rhyme_words = pronouncing.rhymes(rhymeWord)\n",
    "        if (len(list_of_rhyme_words)) > 0:\n",
    "            rhyming_word = random.choice(list_of_rhyme_words)\n",
    "        else:\n",
    "            sentence1 == None\n",
    "    sentence2 = None\n",
    "    while(sentence2 == None):\n",
    "        sentence2 = doctor_pool_state_size_1.make_sentence()\n",
    "    sentence2 = ' '.join(sentence2.split()[0:-1]) + ' ' + rhyming_word\n",
    "    verse = [sentence1,sentence2]\n",
    "    return verse\n",
    "    \n",
    "    "
   ]
  },
  {
   "cell_type": "code",
   "execution_count": 108,
   "metadata": {},
   "outputs": [
    {
     "data": {
      "text/plain": [
       "['Time to play ball.', \"It's like he got up for hall\"]"
      ]
     },
     "execution_count": 108,
     "metadata": {},
     "output_type": "execute_result"
    }
   ],
   "source": [
    "make_verse()"
   ]
  },
  {
   "cell_type": "code",
   "execution_count": 119,
   "metadata": {},
   "outputs": [
    {
     "name": "stdout",
     "output_type": "stream",
     "text": [
      "two-hundred pound sack of one kite bump made us jump!\n",
      "And Sally and big bumps, jumps and Thing Two and clump\n",
      "\n",
      "\n",
      "Then Sally and kicks\n",
      "I Did not flicks\n",
      "\n",
      "\n",
      "What the milk and I, We looked!And we sat in the movie cocoon is what will she do to stop shitting on top With my hat!\n",
      "Time to say. Our mother fucking nonfat\n",
      "\n",
      "\n",
      "What the toy man!\n",
      "That are pink, white and down on the movie cocoon is pure duran\n",
      "\n",
      "\n",
      "And Sally and I can of assholes named Trump\n",
      "I bet it out of assholes named grump\n",
      "\n",
      "\n",
      "a shoe filled with Sally.We sat in with a box.\n",
      "Suck a cup And then something went BUMP! How that clock's\n",
      "\n",
      "\n",
      "Those Things ran about With a litte toy ship And a cock!\n",
      "Like two Things should have worn his brown roch\n",
      "\n",
      "\n",
      "What in a hook.\n",
      "What the wall in the fuck this up TWO books! And a shoe filled with Sally.We sat in the crook\n",
      "\n",
      "\n"
     ]
    }
   ],
   "source": [
    "make_poem()"
   ]
  },
  {
   "cell_type": "code",
   "execution_count": 124,
   "metadata": {},
   "outputs": [
    {
     "name": "stdout",
     "output_type": "stream",
     "text": [
      "What the ass!\n",
      "What the dots That wheezing bag of assholes named glass\n",
      "\n",
      "\n",
      "We saw Mother's new rake.\n",
      "Two and Thing Two and big bumps, jumps and Thing One! They ran about With big bumps, jumps and Thing One! They ran yake\n",
      "\n",
      "\n",
      "You're really gonna rip this house! Make them Thing One and down with piss.\n",
      "With a sand paper rys\n",
      "\n",
      "\n",
      "I'm gonna get it out of his brown pants.\n",
      "And you out of assholes named durant's\n",
      "\n",
      "\n",
      "Suck a shoe filled with a dish!\n",
      "two-hundred pound sack of dick tips has it through your head or slap the movie cocoon is what the kish\n",
      "\n",
      "\n",
      "That are pink, white and Thing Two and red.\n",
      "I can hold the chimi fucking embed\n",
      "\n",
      "\n",
      "get it through your head or get it out of assholes named Trump\n",
      "Gate-looking mother fucking spell it rump\n",
      "\n",
      "\n",
      "Ugh, fuck town!\n",
      "two-hundred pound sack of dick tips has it feels huge in the gown\n",
      "\n",
      "\n"
     ]
    }
   ],
   "source": [
    "make_poem()"
   ]
  },
  {
   "cell_type": "code",
   "execution_count": 130,
   "metadata": {},
   "outputs": [
    {
     "name": "stdout",
     "output_type": "stream",
     "text": [
      "Tell Beast to tell her?\n",
      "Either that, or slap the fuck luhr\n",
      "\n",
      "\n",
      "A big bumps, jumps and Thing Two.\n",
      "We looked!And we sat in this mother was shut with a overdo\n",
      "\n",
      "\n",
      "two-hundred pound sack of dick move.\n",
      "Sit on my approve\n",
      "\n",
      "\n",
      "Tell Beast to play ball.\n",
      "Sit on a bump On the fairall\n",
      "\n",
      "\n",
      "Too wet to do.\n",
      "That are pink, white and big bumps, jumps and pas-de-deux\n",
      "\n",
      "\n",
      "What in the toy man!\n",
      "Then he mouth-sexed a can of his mactan\n",
      "\n",
      "\n",
      "What the fan with hops and I can hold up for me?\n",
      "I'll take the henri\n",
      "\n",
      "\n",
      "Motherfucker should have to have worn his hat.\n",
      "Her gown with Sally.We sat in the fuck this slat\n",
      "\n",
      "\n"
     ]
    }
   ],
   "source": [
    "make_poem()"
   ]
  },
  {
   "cell_type": "code",
   "execution_count": 150,
   "metadata": {},
   "outputs": [
    {
     "name": "stdout",
     "output_type": "stream",
     "text": [
      "You SHOULD NOT be here When our fish came down, too. He fell into a rake!\n",
      "So we did nothing at bake\n",
      "\n",
      "\n",
      "Then he fell into a stick.\n",
      "Finish fucking dick\n",
      "\n",
      "\n",
      "And look! With a bump made us jump!\n",
      "And Sally and I can hold up for stump\n",
      "\n",
      "\n",
      "I hop up the dots That is pure pornography.\n",
      "Sit on one kite bump made us cinematography\n",
      "\n",
      "\n"
     ]
    }
   ],
   "source": [
    "make_poem()"
   ]
  },
  {
   "cell_type": "code",
   "execution_count": 152,
   "metadata": {},
   "outputs": [
    {
     "name": "stdout",
     "output_type": "stream",
     "text": [
      "Sit on one little toy man!\n",
      "two-hundred pound sack of bad zan\n",
      "\n",
      "\n",
      "A big red fan!\n",
      "Then Sally and ruth-anne\n",
      "\n",
      "\n",
      "two-hundred pound sack of that cold, cold, cold, wet to stop shitting on the shit biscuit!\n",
      "Sit on the cat said... Then Sally and big thumps And some milk on the milk on the house All that brisket\n",
      "\n",
      "\n",
      "I'm gonna fuck this up these books! And a tip of assholes named Trump\n",
      "Then we sat in the bitch out for thump\n",
      "\n",
      "\n"
     ]
    }
   ],
   "source": [
    "make_poem()"
   ]
  },
  {
   "cell_type": "code",
   "execution_count": 169,
   "metadata": {},
   "outputs": [
    {
     "name": "stdout",
     "output_type": "stream",
     "text": [
      "You SHOULD NOT be here When our fish on my tail I bet it out for me?\n",
      "Either that, or get outta fuck satterlee\n",
      "\n",
      "\n",
      "And then something went BUMP! How that is pure pornography.\n",
      "And look! With a sand paper radiography\n",
      "\n",
      "\n",
      "two-hundred pound sack of dick tips has it feels huge in the shit?\n",
      "I'm gonna get it deep in a witt\n",
      "\n",
      "\n",
      "What the fuck this mother fucker\n",
      "I can of assholes named smucker\n",
      "\n",
      "\n"
     ]
    }
   ],
   "source": [
    "make_poem()"
   ]
  },
  {
   "cell_type": "code",
   "execution_count": 173,
   "metadata": {},
   "outputs": [
    {
     "name": "stdout",
     "output_type": "stream",
     "text": [
      "Then those two hobos fucking spell it coming!\n",
      "My chrome-penised friend back in a succumbing\n",
      "\n",
      "\n",
      "Bump their kites on my hat!\n",
      "Then, out for tat\n",
      "\n",
      "\n",
      "Bump their kites on my lawn.\n",
      "Ooh, I'mma fucking in the box Came back there on the bitch out of prawn\n",
      "\n",
      "\n",
      "Thing One! They ran about With a can of assholes named Trump\n",
      "Ugh, fuck this house! Make them lump\n",
      "\n",
      "\n"
     ]
    }
   ],
   "source": [
    "make_poem()"
   ]
  }
 ],
 "metadata": {
  "kernelspec": {
   "display_name": "Python 3",
   "language": "python",
   "name": "python3"
  },
  "language_info": {
   "codemirror_mode": {
    "name": "ipython",
    "version": 3
   },
   "file_extension": ".py",
   "mimetype": "text/x-python",
   "name": "python",
   "nbconvert_exporter": "python",
   "pygments_lexer": "ipython3",
   "version": "3.6.0"
  }
 },
 "nbformat": 4,
 "nbformat_minor": 2
}
